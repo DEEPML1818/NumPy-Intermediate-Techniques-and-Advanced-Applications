{
 "cells": [
  {
   "cell_type": "code",
   "execution_count": null,
   "metadata": {},
   "outputs": [],
   "source": [
    "import numpy as np\n",
    "\n",
    "# Broadcasting with a scalar\n",
    "arr = np.array([1, 2, 3, 4])\n",
    "result = arr + 10\n",
    "print(result)  # [11 12 13 14]"
   ]
  },
  {
   "cell_type": "code",
   "execution_count": null,
   "metadata": {},
   "outputs": [],
   "source": [
    "# Broadcasting with arrays of different shapes\n",
    "matrix = np.array([[1, 2, 3], [4, 5, 6]])\n",
    "row_vector = np.array([10, 20, 30])\n",
    "result = matrix + row_vector\n",
    "print(result)\n",
    "# [[11 22 33]\n",
    "#  [14 25 36]]"
   ]
  },
  {
   "cell_type": "code",
   "execution_count": null,
   "metadata": {},
   "outputs": [],
   "source": [
    "# Boolean indexing\n",
    "arr = np.array([1, 2, 3, 4, 5])\n",
    "mask = arr > 2\n",
    "result = arr[mask]\n",
    "print(result)  # [3 4 5]"
   ]
  },
  {
   "cell_type": "code",
   "execution_count": null,
   "metadata": {},
   "outputs": [],
   "source": [
    "# Fancy indexing\n",
    "arr = np.array([1, 2, 3, 4, 5])\n",
    "indices = [0, 2, 4]\n",
    "result = arr[indices]\n",
    "print(result)  # [1 3 5]"
   ]
  },
  {
   "cell_type": "code",
   "execution_count": null,
   "metadata": {},
   "outputs": [],
   "source": [
    "# Using np.where\n",
    "arr = np.array([1, 2, 3, 4, 5])\n",
    "result = np.where(arr > 2, 'A', 'B')\n",
    "print(result)  # ['B' 'B' 'A' 'A' 'A']"
   ]
  },
  {
   "cell_type": "code",
   "execution_count": null,
   "metadata": {},
   "outputs": [],
   "source": [
    "arr = np.array([1, 2, 3, 4, 5])\n",
    "\n",
    "# Example of ufuncs\n",
    "print(np.square(arr))   # [ 1  4  9 16 25]\n",
    "print(np.sqrt(arr))     # [1.         1.41421356 1.73205081 2.         2.23606798]\n",
    "print(np.exp(arr))      # [  2.71828183   7.3890561   20.08553692  54.59815003 148.4131591 ]\n"
   ]
  }
 ],
 "metadata": {
  "language_info": {
   "name": "python"
  },
  "orig_nbformat": 4
 },
 "nbformat": 4,
 "nbformat_minor": 2
}
